{
 "cells": [
  {
   "cell_type": "markdown",
   "id": "13f0795c",
   "metadata": {},
   "source": [
    "First Lessons"
   ]
  },
  {
   "cell_type": "code",
   "execution_count": 4,
   "id": "abb69d31",
   "metadata": {},
   "outputs": [
    {
     "name": "stdout",
     "output_type": "stream",
     "text": [
      "Back end developer Fatima Aliyeva\n"
     ]
    }
   ],
   "source": [
    "print(\"Back end developer Fatima Aliyeva\")"
   ]
  },
  {
   "cell_type": "code",
   "execution_count": 41,
   "id": "4ccc5b40",
   "metadata": {},
   "outputs": [
    {
     "name": "stdout",
     "output_type": "stream",
     "text": [
      "Back end developer\n",
      "Fatima Aliyeva\n"
     ]
    }
   ],
   "source": [
    "print(\"Back end developer\\nFatima Aliyeva\")"
   ]
  },
  {
   "cell_type": "code",
   "execution_count": 42,
   "id": "dad14095",
   "metadata": {},
   "outputs": [
    {
     "name": "stdout",
     "output_type": "stream",
     "text": [
      "Back end developer\tFatima Aliyeva\n"
     ]
    }
   ],
   "source": [
    "print(\"Back end developer\\tFatima Aliyeva\")"
   ]
  },
  {
   "cell_type": "code",
   "execution_count": 17,
   "id": "9347c7f3",
   "metadata": {},
   "outputs": [
    {
     "name": "stdout",
     "output_type": "stream",
     "text": [
      "Adinizi ve soyadinizi qeyd edin:Fatima Aliyeva\n",
      "Yasinizi qeyd edin:19\n",
      "<bound method Kernel.raw_input of <ipykernel.ipkernel.IPythonKernel object at 0x0000022F9753A610>>\n"
     ]
    }
   ],
   "source": [
    "input(\"Adinizi ve soyadinizi qeyd edin:\")\n",
    "input(\"Yasinizi qeyd edin:\")\n",
    "print(input)"
   ]
  },
  {
   "cell_type": "markdown",
   "id": "b25c798b",
   "metadata": {},
   "source": [
    "### Variables and const (Dəyişkənlər və sabitlər)"
   ]
  },
  {
   "cell_type": "code",
   "execution_count": 31,
   "id": "09812bc3",
   "metadata": {},
   "outputs": [],
   "source": [
    "ad = \"Fatima\""
   ]
  },
  {
   "cell_type": "code",
   "execution_count": 26,
   "id": "48459122",
   "metadata": {},
   "outputs": [],
   "source": [
    "soyad = \"Aliyeva\""
   ]
  },
  {
   "cell_type": "code",
   "execution_count": 27,
   "id": "15857b4d",
   "metadata": {},
   "outputs": [
    {
     "name": "stdout",
     "output_type": "stream",
     "text": [
      "Fatima Aliyeva\n"
     ]
    }
   ],
   "source": [
    "print(ad, soyad)"
   ]
  },
  {
   "cell_type": "code",
   "execution_count": 28,
   "id": "1ea9b068",
   "metadata": {},
   "outputs": [
    {
     "name": "stdout",
     "output_type": "stream",
     "text": [
      "Fatima Aliyeva\n"
     ]
    }
   ],
   "source": [
    "ad = \"Fatima\"\n",
    "soyad = \"Aliyeva\"\n",
    "print(ad, soyad)"
   ]
  },
  {
   "cell_type": "code",
   "execution_count": 33,
   "id": "ee8e0c05",
   "metadata": {},
   "outputs": [
    {
     "ename": "NameError",
     "evalue": "name 'Fatima' is not defined",
     "output_type": "error",
     "traceback": [
      "\u001b[1;31m---------------------------------------------------------------------------\u001b[0m",
      "\u001b[1;31mNameError\u001b[0m                                 Traceback (most recent call last)",
      "\u001b[1;32m<ipython-input-33-b50f39652c02>\u001b[0m in \u001b[0;36m<module>\u001b[1;34m\u001b[0m\n\u001b[1;32m----> 1\u001b[1;33m \u001b[0mad\u001b[0m \u001b[1;33m=\u001b[0m \u001b[0mFatima\u001b[0m\u001b[1;33m\u001b[0m\u001b[1;33m\u001b[0m\u001b[0m\n\u001b[0m\u001b[0;32m      2\u001b[0m \u001b[0msoyad\u001b[0m \u001b[1;33m=\u001b[0m \u001b[0mAliyeva\u001b[0m\u001b[1;33m\u001b[0m\u001b[1;33m\u001b[0m\u001b[0m\n\u001b[0;32m      3\u001b[0m \u001b[0mprint\u001b[0m\u001b[1;33m(\u001b[0m\u001b[0mad\u001b[0m\u001b[1;33m,\u001b[0m\u001b[0msoyad\u001b[0m\u001b[1;33m)\u001b[0m\u001b[1;33m\u001b[0m\u001b[1;33m\u001b[0m\u001b[0m\n",
      "\u001b[1;31mNameError\u001b[0m: name 'Fatima' is not defined"
     ]
    }
   ],
   "source": [
    "ad = Fatima\n",
    "soyad = Aliyeva\n",
    "print(ad,soyad)"
   ]
  },
  {
   "cell_type": "code",
   "execution_count": 43,
   "id": "f667acfc",
   "metadata": {},
   "outputs": [
    {
     "name": "stdout",
     "output_type": "stream",
     "text": [
      "Kamran\n"
     ]
    }
   ],
   "source": [
    "ad = \"Kamran\"\n",
    "print(ad)"
   ]
  },
  {
   "cell_type": "code",
   "execution_count": 53,
   "id": "91c892bc",
   "metadata": {},
   "outputs": [
    {
     "name": "stdout",
     "output_type": "stream",
     "text": [
      "Kamran Aliyev\n"
     ]
    }
   ],
   "source": [
    "ad,soyad = \"Kamran\", \"Aliyev\"\n",
    "print(ad, soyad)"
   ]
  },
  {
   "cell_type": "code",
   "execution_count": 54,
   "id": "d49e9dc7",
   "metadata": {},
   "outputs": [
    {
     "name": "stdout",
     "output_type": "stream",
     "text": [
      "Aliyev Kamran\n"
     ]
    }
   ],
   "source": [
    "ad,soyad = soyad,ad\n",
    "print(ad,soyad)"
   ]
  },
  {
   "cell_type": "code",
   "execution_count": 57,
   "id": "8c6f03ca",
   "metadata": {},
   "outputs": [
    {
     "name": "stdout",
     "output_type": "stream",
     "text": [
      "KKKK\n"
     ]
    }
   ],
   "source": [
    "Istifadeci_adi = 'KKKK'\n",
    "print(Istifadeci_adi)"
   ]
  },
  {
   "cell_type": "code",
   "execution_count": null,
   "id": "07988f04",
   "metadata": {},
   "outputs": [],
   "source": []
  },
  {
   "cell_type": "markdown",
   "id": "ef51f19a",
   "metadata": {},
   "source": [
    "### Data types(Data tipleri)"
   ]
  },
  {
   "cell_type": "markdown",
   "id": "4c2db969",
   "metadata": {},
   "source": [
    "-Numbers -- nomreler\n",
    "-String --- sozler,cumler \n",
    "-Boolen --- true, false\n",
    "-List--- listler\n",
    "-Tuple\n",
    "-Dictionary --- sozcukler\n",
    "-Set --- dest"
   ]
  },
  {
   "cell_type": "markdown",
   "id": "f5a486e7",
   "metadata": {},
   "source": [
    "### Numbers"
   ]
  },
  {
   "cell_type": "code",
   "execution_count": 61,
   "id": "dbe03e5f",
   "metadata": {},
   "outputs": [],
   "source": [
    " yas = 19"
   ]
  },
  {
   "cell_type": "code",
   "execution_count": 63,
   "id": "4691fde1",
   "metadata": {},
   "outputs": [
    {
     "data": {
      "text/plain": [
       "10"
      ]
     },
     "execution_count": 63,
     "metadata": {},
     "output_type": "execute_result"
    }
   ],
   "source": [
    "5+5"
   ]
  },
  {
   "cell_type": "markdown",
   "id": "117cf8c1",
   "metadata": {},
   "source": [
    "Integer= 5\n",
    "Float== 5.55\n",
    "long==big numbers--33333322222l\n",
    "complex==3.15j"
   ]
  },
  {
   "cell_type": "code",
   "execution_count": 64,
   "id": "35798fbe",
   "metadata": {},
   "outputs": [
    {
     "data": {
      "text/plain": [
       "12"
      ]
     },
     "execution_count": 64,
     "metadata": {},
     "output_type": "execute_result"
    }
   ],
   "source": [
    "5+7"
   ]
  },
  {
   "cell_type": "code",
   "execution_count": 66,
   "id": "275e6504",
   "metadata": {},
   "outputs": [
    {
     "data": {
      "text/plain": [
       "85.6"
      ]
     },
     "execution_count": 66,
     "metadata": {},
     "output_type": "execute_result"
    }
   ],
   "source": [
    "5.6+80"
   ]
  },
  {
   "cell_type": "code",
   "execution_count": 67,
   "id": "e15c32aa",
   "metadata": {},
   "outputs": [
    {
     "data": {
      "text/plain": [
       "80"
      ]
     },
     "execution_count": 67,
     "metadata": {},
     "output_type": "execute_result"
    }
   ],
   "source": [
    "10*8"
   ]
  },
  {
   "cell_type": "code",
   "execution_count": 70,
   "id": "fbb8cf4e",
   "metadata": {},
   "outputs": [
    {
     "data": {
      "text/plain": [
       "10.0"
      ]
     },
     "execution_count": 70,
     "metadata": {},
     "output_type": "execute_result"
    }
   ],
   "source": [
    "100/10"
   ]
  },
  {
   "cell_type": "code",
   "execution_count": 72,
   "id": "98fbab99",
   "metadata": {},
   "outputs": [
    {
     "data": {
      "text/plain": [
       "5"
      ]
     },
     "execution_count": 72,
     "metadata": {},
     "output_type": "execute_result"
    }
   ],
   "source": [
    "40 % 7 "
   ]
  },
  {
   "cell_type": "code",
   "execution_count": 73,
   "id": "34980c1e",
   "metadata": {},
   "outputs": [
    {
     "data": {
      "text/plain": [
       "1"
      ]
     },
     "execution_count": 73,
     "metadata": {},
     "output_type": "execute_result"
    }
   ],
   "source": [
    "29 % 4"
   ]
  },
  {
   "cell_type": "code",
   "execution_count": 74,
   "id": "7b35be80",
   "metadata": {},
   "outputs": [
    {
     "data": {
      "text/plain": [
       "0"
      ]
     },
     "execution_count": 74,
     "metadata": {},
     "output_type": "execute_result"
    }
   ],
   "source": [
    "50 % 10"
   ]
  },
  {
   "cell_type": "code",
   "execution_count": 75,
   "id": "0e6e5a6b",
   "metadata": {},
   "outputs": [
    {
     "data": {
      "text/plain": [
       "25"
      ]
     },
     "execution_count": 75,
     "metadata": {},
     "output_type": "execute_result"
    }
   ],
   "source": [
    "5 ** 2"
   ]
  },
  {
   "cell_type": "code",
   "execution_count": 79,
   "id": "b36cf09e",
   "metadata": {},
   "outputs": [
    {
     "data": {
      "text/plain": [
       "256"
      ]
     },
     "execution_count": 79,
     "metadata": {},
     "output_type": "execute_result"
    }
   ],
   "source": [
    "4 ** 4"
   ]
  },
  {
   "cell_type": "code",
   "execution_count": 80,
   "id": "395d848d",
   "metadata": {},
   "outputs": [
    {
     "data": {
      "text/plain": [
       "3"
      ]
     },
     "execution_count": 80,
     "metadata": {},
     "output_type": "execute_result"
    }
   ],
   "source": [
    "10//3"
   ]
  },
  {
   "cell_type": "code",
   "execution_count": 81,
   "id": "8cfc0d99",
   "metadata": {},
   "outputs": [
    {
     "data": {
      "text/plain": [
       "3.3333333333333335"
      ]
     },
     "execution_count": 81,
     "metadata": {},
     "output_type": "execute_result"
    }
   ],
   "source": [
    "10/3"
   ]
  },
  {
   "cell_type": "code",
   "execution_count": 83,
   "id": "7a3b11c4",
   "metadata": {},
   "outputs": [
    {
     "data": {
      "text/plain": [
       "5"
      ]
     },
     "execution_count": 83,
     "metadata": {},
     "output_type": "execute_result"
    }
   ],
   "source": [
    "round(4.56)"
   ]
  },
  {
   "cell_type": "markdown",
   "id": "8e4668eb",
   "metadata": {},
   "source": [
    "### String"
   ]
  },
  {
   "cell_type": "code",
   "execution_count": 84,
   "id": "9709919d",
   "metadata": {},
   "outputs": [
    {
     "data": {
      "text/plain": [
       "'\\nBSKJCDSLKVD;KFBLJDBVLKSBVJDSBV\\nLSKVNLDBXVLXZKCBVJFDSVGIJDFVLHZ\\nSFDS FDFMDFG,MGFMFMFD\\n'"
      ]
     },
     "execution_count": 84,
     "metadata": {},
     "output_type": "execute_result"
    }
   ],
   "source": [
    "'Fatima'\n",
    "\"Fatima\"\n",
    "\"\"\"\n",
    "BSKJCDSLKVD;KFBLJDBVLKSBVJDSBV\n",
    "LSKVNLDBXVLXZKCBVJFDSVGIJDFVLHZ\n",
    "SFDS FDFMDFG,MGFMFMFD\n",
    "\"\"\""
   ]
  },
  {
   "cell_type": "code",
   "execution_count": 90,
   "id": "54fb108c",
   "metadata": {},
   "outputs": [
    {
     "data": {
      "text/plain": [
       "'F'"
      ]
     },
     "execution_count": 90,
     "metadata": {},
     "output_type": "execute_result"
    }
   ],
   "source": [
    "ad = 'Fatima Aliyeva'\n",
    "ad[0]  "
   ]
  },
  {
   "cell_type": "code",
   "execution_count": 91,
   "id": "9dba0099",
   "metadata": {},
   "outputs": [
    {
     "data": {
      "text/plain": [
       "'t'"
      ]
     },
     "execution_count": 91,
     "metadata": {},
     "output_type": "execute_result"
    }
   ],
   "source": [
    "ad = 'Fatima Aliyeva'\n",
    "ad[2]  "
   ]
  },
  {
   "cell_type": "code",
   "execution_count": 93,
   "id": "53991639",
   "metadata": {},
   "outputs": [
    {
     "data": {
      "text/plain": [
       "'Fatima'"
      ]
     },
     "execution_count": 93,
     "metadata": {},
     "output_type": "execute_result"
    }
   ],
   "source": [
    "ad = 'Fatima Aliyeva'\n",
    "ad[0:6]  "
   ]
  },
  {
   "cell_type": "code",
   "execution_count": 96,
   "id": "d247f0a7",
   "metadata": {},
   "outputs": [
    {
     "data": {
      "text/plain": [
       "'Ftm'"
      ]
     },
     "execution_count": 96,
     "metadata": {},
     "output_type": "execute_result"
    }
   ],
   "source": [
    "ad = 'Fatima Aliyeva'\n",
    "ad[0:6:2]  "
   ]
  },
  {
   "cell_type": "code",
   "execution_count": 97,
   "id": "cd730934",
   "metadata": {},
   "outputs": [
    {
     "data": {
      "text/plain": [
       "'Fatima Aliyeva'"
      ]
     },
     "execution_count": 97,
     "metadata": {},
     "output_type": "execute_result"
    }
   ],
   "source": [
    "ad"
   ]
  },
  {
   "cell_type": "code",
   "execution_count": 99,
   "id": "ff7520f9",
   "metadata": {},
   "outputs": [
    {
     "data": {
      "text/plain": [
       "'FatimaFatimaFatima'"
      ]
     },
     "execution_count": 99,
     "metadata": {},
     "output_type": "execute_result"
    }
   ],
   "source": [
    "\"Fatima\" * 3"
   ]
  },
  {
   "cell_type": "code",
   "execution_count": 102,
   "id": "4f86cafb",
   "metadata": {},
   "outputs": [
    {
     "data": {
      "text/plain": [
       "'Fatima Aliyeva'"
      ]
     },
     "execution_count": 102,
     "metadata": {},
     "output_type": "execute_result"
    }
   ],
   "source": [
    "\"Fatima\"  +  \" Aliyeva\""
   ]
  },
  {
   "cell_type": "code",
   "execution_count": 103,
   "id": "2b567c92",
   "metadata": {},
   "outputs": [
    {
     "data": {
      "text/plain": [
       "'FATIMA'"
      ]
     },
     "execution_count": 103,
     "metadata": {},
     "output_type": "execute_result"
    }
   ],
   "source": [
    "\"Fatima\".upper()"
   ]
  },
  {
   "cell_type": "code",
   "execution_count": 106,
   "id": "5f4a8c43",
   "metadata": {},
   "outputs": [
    {
     "data": {
      "text/plain": [
       "'aliyeva'"
      ]
     },
     "execution_count": 106,
     "metadata": {},
     "output_type": "execute_result"
    }
   ],
   "source": [
    "\"Aliyeva\".lower()"
   ]
  },
  {
   "cell_type": "code",
   "execution_count": 108,
   "id": "d6759aa9",
   "metadata": {},
   "outputs": [
    {
     "data": {
      "text/plain": [
       "'Fatima aliyeva'"
      ]
     },
     "execution_count": 108,
     "metadata": {},
     "output_type": "execute_result"
    }
   ],
   "source": [
    "'Fatima Aliyeva'.capitalize()"
   ]
  },
  {
   "cell_type": "code",
   "execution_count": 110,
   "id": "34d5cf6e",
   "metadata": {},
   "outputs": [
    {
     "data": {
      "text/plain": [
       "'fatima aliyeva'"
      ]
     },
     "execution_count": 110,
     "metadata": {},
     "output_type": "execute_result"
    }
   ],
   "source": [
    "ad = 'Fatima Aliyeva'\n",
    "ad.lower()"
   ]
  },
  {
   "cell_type": "code",
   "execution_count": 112,
   "id": "6aa3fa32",
   "metadata": {},
   "outputs": [
    {
     "data": {
      "text/plain": [
       "'Fatima Aliyeva'"
      ]
     },
     "execution_count": 112,
     "metadata": {},
     "output_type": "execute_result"
    }
   ],
   "source": [
    "ad"
   ]
  },
  {
   "cell_type": "code",
   "execution_count": 116,
   "id": "c354e0fe",
   "metadata": {},
   "outputs": [],
   "source": [
    "yeni=ad.lower()"
   ]
  },
  {
   "cell_type": "code",
   "execution_count": 117,
   "id": "39819d2d",
   "metadata": {},
   "outputs": [
    {
     "data": {
      "text/plain": [
       "'fatima aliyeva'"
      ]
     },
     "execution_count": 117,
     "metadata": {},
     "output_type": "execute_result"
    }
   ],
   "source": [
    "yeni"
   ]
  },
  {
   "cell_type": "code",
   "execution_count": 120,
   "id": "61448229",
   "metadata": {},
   "outputs": [
    {
     "data": {
      "text/plain": [
       "'Fatima Aliyeva'"
      ]
     },
     "execution_count": 120,
     "metadata": {},
     "output_type": "execute_result"
    }
   ],
   "source": [
    "ad"
   ]
  },
  {
   "cell_type": "code",
   "execution_count": 122,
   "id": "2d5efc42",
   "metadata": {},
   "outputs": [
    {
     "data": {
      "text/plain": [
       "3"
      ]
     },
     "execution_count": 122,
     "metadata": {},
     "output_type": "execute_result"
    }
   ],
   "source": [
    "ad.count(\"a\")"
   ]
  },
  {
   "cell_type": "code",
   "execution_count": 123,
   "id": "f7e57ba7",
   "metadata": {},
   "outputs": [
    {
     "data": {
      "text/plain": [
       "-1"
      ]
     },
     "execution_count": 123,
     "metadata": {},
     "output_type": "execute_result"
    }
   ],
   "source": [
    "ad.find(\"s\")"
   ]
  },
  {
   "cell_type": "code",
   "execution_count": 125,
   "id": "83971e9e",
   "metadata": {},
   "outputs": [
    {
     "data": {
      "text/plain": [
       "7"
      ]
     },
     "execution_count": 125,
     "metadata": {},
     "output_type": "execute_result"
    }
   ],
   "source": [
    "ad.find(\"A\")"
   ]
  },
  {
   "cell_type": "code",
   "execution_count": 129,
   "id": "089caede",
   "metadata": {},
   "outputs": [
    {
     "data": {
      "text/plain": [
       "0"
      ]
     },
     "execution_count": 129,
     "metadata": {},
     "output_type": "execute_result"
    }
   ],
   "source": [
    "ad.index(\"F\")"
   ]
  },
  {
   "cell_type": "code",
   "execution_count": 130,
   "id": "e591bfe7",
   "metadata": {},
   "outputs": [],
   "source": [
    "ad=\"             Fatima Aliyeva            \""
   ]
  },
  {
   "cell_type": "code",
   "execution_count": 131,
   "id": "699206ee",
   "metadata": {},
   "outputs": [
    {
     "data": {
      "text/plain": [
       "'Fatima Aliyeva            '"
      ]
     },
     "execution_count": 131,
     "metadata": {},
     "output_type": "execute_result"
    }
   ],
   "source": [
    "ad.lstrip()"
   ]
  },
  {
   "cell_type": "code",
   "execution_count": 132,
   "id": "e7beb153",
   "metadata": {},
   "outputs": [
    {
     "data": {
      "text/plain": [
       "'             Fatima Aliyeva'"
      ]
     },
     "execution_count": 132,
     "metadata": {},
     "output_type": "execute_result"
    }
   ],
   "source": [
    "ad.rstrip()"
   ]
  },
  {
   "cell_type": "code",
   "execution_count": 135,
   "id": "47af843c",
   "metadata": {},
   "outputs": [
    {
     "data": {
      "text/plain": [
       "'Fatima Aliyeva'"
      ]
     },
     "execution_count": 135,
     "metadata": {},
     "output_type": "execute_result"
    }
   ],
   "source": [
    "ad.strip()"
   ]
  },
  {
   "cell_type": "code",
   "execution_count": 136,
   "id": "3c3d6223",
   "metadata": {},
   "outputs": [
    {
     "data": {
      "text/plain": [
       "'             Fatima Muradova            '"
      ]
     },
     "execution_count": 136,
     "metadata": {},
     "output_type": "execute_result"
    }
   ],
   "source": [
    "ad.replace(\"Aliyeva\", \"Muradova\")"
   ]
  },
  {
   "cell_type": "code",
   "execution_count": 159,
   "id": "52736403",
   "metadata": {},
   "outputs": [
    {
     "name": "stdout",
     "output_type": "stream",
     "text": [
      "Name:Fatima\n",
      "Surname:Aliyeva\n"
     ]
    }
   ],
   "source": [
    "Name = \"Fatima\"\n",
    "Surname = \"Aliyeva\"\n",
    "print(\"Name:{}\\nSurname:{}\".format(Name,Surname))"
   ]
  },
  {
   "cell_type": "markdown",
   "id": "135f6430",
   "metadata": {},
   "source": [
    "### Boolean\n"
   ]
  },
  {
   "cell_type": "code",
   "execution_count": 160,
   "id": "e94a1b15",
   "metadata": {},
   "outputs": [
    {
     "data": {
      "text/plain": [
       "True"
      ]
     },
     "execution_count": 160,
     "metadata": {},
     "output_type": "execute_result"
    }
   ],
   "source": [
    "5<8"
   ]
  },
  {
   "cell_type": "code",
   "execution_count": 164,
   "id": "e5661f31",
   "metadata": {},
   "outputs": [
    {
     "data": {
      "text/plain": [
       "False"
      ]
     },
     "execution_count": 164,
     "metadata": {},
     "output_type": "execute_result"
    }
   ],
   "source": [
    "5<3"
   ]
  },
  {
   "cell_type": "code",
   "execution_count": 162,
   "id": "a29a3d5a",
   "metadata": {},
   "outputs": [
    {
     "data": {
      "text/plain": [
       "False"
      ]
     },
     "execution_count": 162,
     "metadata": {},
     "output_type": "execute_result"
    }
   ],
   "source": [
    "6==2"
   ]
  },
  {
   "cell_type": "code",
   "execution_count": 168,
   "id": "1a4cd22f",
   "metadata": {},
   "outputs": [
    {
     "data": {
      "text/plain": [
       "True"
      ]
     },
     "execution_count": 168,
     "metadata": {},
     "output_type": "execute_result"
    }
   ],
   "source": [
    "6!=1"
   ]
  },
  {
   "cell_type": "code",
   "execution_count": 169,
   "id": "2dd7d277",
   "metadata": {},
   "outputs": [
    {
     "data": {
      "text/plain": [
       "False"
      ]
     },
     "execution_count": 169,
     "metadata": {},
     "output_type": "execute_result"
    }
   ],
   "source": [
    "6!=6"
   ]
  },
  {
   "cell_type": "code",
   "execution_count": 165,
   "id": "fa863d01",
   "metadata": {},
   "outputs": [
    {
     "data": {
      "text/plain": [
       "False"
      ]
     },
     "execution_count": 165,
     "metadata": {},
     "output_type": "execute_result"
    }
   ],
   "source": [
    "7 >= 9"
   ]
  },
  {
   "cell_type": "code",
   "execution_count": 166,
   "id": "ac8bf09e",
   "metadata": {},
   "outputs": [
    {
     "data": {
      "text/plain": [
       "True"
      ]
     },
     "execution_count": 166,
     "metadata": {},
     "output_type": "execute_result"
    }
   ],
   "source": [
    "7>=7"
   ]
  },
  {
   "cell_type": "markdown",
   "id": "12a3b8e3",
   "metadata": {},
   "source": [
    "### Lists Methods"
   ]
  },
  {
   "cell_type": "code",
   "execution_count": 188,
   "id": "05c5b6e7",
   "metadata": {},
   "outputs": [
    {
     "name": "stdout",
     "output_type": "stream",
     "text": [
      "%.f 67\n"
     ]
    }
   ],
   "source": [
    "\n",
    "print('%.f',67)"
   ]
  },
  {
   "cell_type": "code",
   "execution_count": 195,
   "id": "6a4d761e",
   "metadata": {},
   "outputs": [
    {
     "ename": "NameError",
     "evalue": "name 'x' is not defined",
     "output_type": "error",
     "traceback": [
      "\u001b[1;31m---------------------------------------------------------------------------\u001b[0m",
      "\u001b[1;31mNameError\u001b[0m                                 Traceback (most recent call last)",
      "\u001b[1;32m<ipython-input-195-4eea9aa978eb>\u001b[0m in \u001b[0;36m<module>\u001b[1;34m\u001b[0m\n\u001b[0;32m      1\u001b[0m \u001b[0mdouble_x\u001b[0m \u001b[1;33m=\u001b[0m \u001b[1;36m12.345678\u001b[0m\u001b[1;33m\u001b[0m\u001b[1;33m\u001b[0m\u001b[0m\n\u001b[1;32m----> 2\u001b[1;33m \u001b[0mprint\u001b[0m\u001b[1;33m(\u001b[0m\u001b[1;34m\"Number is approximately %.2f\"\u001b[0m\u001b[1;33m,\u001b[0m \u001b[0mx\u001b[0m\u001b[1;33m)\u001b[0m\u001b[1;33m\u001b[0m\u001b[1;33m\u001b[0m\u001b[0m\n\u001b[0m",
      "\u001b[1;31mNameError\u001b[0m: name 'x' is not defined"
     ]
    }
   ],
   "source": [
    "\n",
    "    double_x = 12.345678\n",
    "print(\"Number is approximately %.2f\", x)\n"
   ]
  },
  {
   "cell_type": "code",
   "execution_count": null,
   "id": "6e1a796d",
   "metadata": {},
   "outputs": [],
   "source": []
  },
  {
   "cell_type": "code",
   "execution_count": null,
   "id": "218beea2",
   "metadata": {},
   "outputs": [],
   "source": []
  },
  {
   "cell_type": "markdown",
   "id": "3385b14b",
   "metadata": {},
   "source": [
    "### Object ariented programing (OOP)\n",
    "PYTON HER SEY OBJECT STRING MESELEN\n"
   ]
  },
  {
   "cell_type": "code",
   "execution_count": 2,
   "id": "15505d82",
   "metadata": {},
   "outputs": [],
   "source": [
    "class Sagirdler :\n",
    "    ad = \"Samir\"\n",
    "    soyad = \"Kerimov\"\n",
    "    yas = 16\n",
    "    sinif_gpa = 75"
   ]
  },
  {
   "cell_type": "code",
   "execution_count": 4,
   "id": "75ebf47a",
   "metadata": {},
   "outputs": [],
   "source": [
    "birinci = Sagirdler()"
   ]
  },
  {
   "cell_type": "code",
   "execution_count": 5,
   "id": "78caa91e",
   "metadata": {},
   "outputs": [
    {
     "data": {
      "text/plain": [
       "'Samir'"
      ]
     },
     "execution_count": 5,
     "metadata": {},
     "output_type": "execute_result"
    }
   ],
   "source": [
    "birinci.ad"
   ]
  },
  {
   "cell_type": "code",
   "execution_count": 6,
   "id": "ecbb3072",
   "metadata": {},
   "outputs": [
    {
     "data": {
      "text/plain": [
       "'Kerimov'"
      ]
     },
     "execution_count": 6,
     "metadata": {},
     "output_type": "execute_result"
    }
   ],
   "source": [
    "birinci.soyad"
   ]
  },
  {
   "cell_type": "code",
   "execution_count": 7,
   "id": "03b4a735",
   "metadata": {},
   "outputs": [
    {
     "data": {
      "text/plain": [
       "16"
      ]
     },
     "execution_count": 7,
     "metadata": {},
     "output_type": "execute_result"
    }
   ],
   "source": [
    "birinci.yas"
   ]
  },
  {
   "cell_type": "code",
   "execution_count": 8,
   "id": "bee53729",
   "metadata": {},
   "outputs": [],
   "source": [
    "ikinci = Sagirdler()"
   ]
  },
  {
   "cell_type": "code",
   "execution_count": 9,
   "id": "76be0e84",
   "metadata": {},
   "outputs": [
    {
     "data": {
      "text/plain": [
       "'Samir'"
      ]
     },
     "execution_count": 9,
     "metadata": {},
     "output_type": "execute_result"
    }
   ],
   "source": [
    "ikinci.ad"
   ]
  },
  {
   "cell_type": "code",
   "execution_count": 10,
   "id": "065af1a7",
   "metadata": {},
   "outputs": [
    {
     "data": {
      "text/plain": [
       "'Kerimov'"
      ]
     },
     "execution_count": 10,
     "metadata": {},
     "output_type": "execute_result"
    }
   ],
   "source": [
    "ikinci.soyad"
   ]
  },
  {
   "cell_type": "code",
   "execution_count": 11,
   "id": "8ffa81f9",
   "metadata": {},
   "outputs": [
    {
     "data": {
      "text/plain": [
       "16"
      ]
     },
     "execution_count": 11,
     "metadata": {},
     "output_type": "execute_result"
    }
   ],
   "source": [
    "ikinci.yas"
   ]
  },
  {
   "cell_type": "markdown",
   "id": "bd83fd5a",
   "metadata": {},
   "source": [
    "### Initializer or Constructor"
   ]
  },
  {
   "cell_type": "markdown",
   "id": "83139de8",
   "metadata": {},
   "source": [
    "Bizim sinifin ana yapisini olusturur bir metod __init__()"
   ]
  },
  {
   "cell_type": "code",
   "execution_count": 4,
   "id": "b5953ed7",
   "metadata": {},
   "outputs": [],
   "source": [
    "class Sagirdler:\n",
    "    def __init__(self,ad,soyad,yas,Gpa):\n",
    "        self.ad = ad\n",
    "        self.soyad = soyad\n",
    "        self.yas = yas\n",
    "        self.Gpa = Gpa"
   ]
  },
  {
   "cell_type": "code",
   "execution_count": 7,
   "id": "e3c45e23",
   "metadata": {},
   "outputs": [],
   "source": [
    "bir = Sagirdler (\"Fatima\",\"Aliyeva\",19,85)"
   ]
  },
  {
   "cell_type": "code",
   "execution_count": 8,
   "id": "3f812fbb",
   "metadata": {},
   "outputs": [
    {
     "data": {
      "text/plain": [
       "'Fatim'"
      ]
     },
     "execution_count": 8,
     "metadata": {},
     "output_type": "execute_result"
    }
   ],
   "source": [
    "bir.ad"
   ]
  },
  {
   "cell_type": "code",
   "execution_count": null,
   "id": "556dad47",
   "metadata": {},
   "outputs": [],
   "source": []
  },
  {
   "cell_type": "code",
   "execution_count": 12,
   "id": "4ce1e57b",
   "metadata": {},
   "outputs": [
    {
     "name": "stdout",
     "output_type": "stream",
     "text": [
      "\n",
      "    ----Proqram Menusu----\n",
      "    1-Yeni Tələbə Əlavə Et\n",
      "    2-Tələbələrin siyahısı gör\n",
      "    3-Proqramdan cıx\n",
      "    4-Əsas menuye qayit\n",
      "    ----------------------\n",
      "    \n",
      "Istədiyiniz əməlyatın nömrəsini daxil edin :1\n",
      "Yeni telebe elave etmek isteyirsiniz mi (Y/N) :f\n"
     ]
    },
    {
     "ename": "KeyboardInterrupt",
     "evalue": "Interrupted by user",
     "output_type": "error",
     "traceback": [
      "\u001b[1;31m---------------------------------------------------------------------------\u001b[0m",
      "\u001b[1;31mKeyboardInterrupt\u001b[0m                         Traceback (most recent call last)",
      "\u001b[1;32m<ipython-input-12-e3c1a705009e>\u001b[0m in \u001b[0;36m<module>\u001b[1;34m\u001b[0m\n\u001b[0;32m     44\u001b[0m         \u001b[1;32mbreak\u001b[0m\u001b[1;33m\u001b[0m\u001b[1;33m\u001b[0m\u001b[0m\n\u001b[0;32m     45\u001b[0m     \u001b[1;32melif\u001b[0m \u001b[0mint\u001b[0m\u001b[1;33m(\u001b[0m\u001b[0memr\u001b[0m\u001b[1;33m)\u001b[0m\u001b[1;33m==\u001b[0m\u001b[1;36m1\u001b[0m\u001b[1;33m:\u001b[0m\u001b[1;33m\u001b[0m\u001b[1;33m\u001b[0m\u001b[0m\n\u001b[1;32m---> 46\u001b[1;33m         \u001b[0mtelebeElaveEt\u001b[0m\u001b[1;33m(\u001b[0m\u001b[1;33m)\u001b[0m\u001b[1;33m\u001b[0m\u001b[1;33m\u001b[0m\u001b[0m\n\u001b[0m\u001b[0;32m     47\u001b[0m     \u001b[1;32melif\u001b[0m \u001b[0mint\u001b[0m\u001b[1;33m(\u001b[0m\u001b[0memr\u001b[0m\u001b[1;33m)\u001b[0m\u001b[1;33m==\u001b[0m\u001b[1;36m2\u001b[0m\u001b[1;33m:\u001b[0m\u001b[1;33m\u001b[0m\u001b[1;33m\u001b[0m\u001b[0m\n\u001b[0;32m     48\u001b[0m         \u001b[0mtelebeSiyahisiGor\u001b[0m\u001b[1;33m(\u001b[0m\u001b[1;33m)\u001b[0m\u001b[1;33m\u001b[0m\u001b[1;33m\u001b[0m\u001b[0m\n",
      "\u001b[1;32m<ipython-input-12-e3c1a705009e>\u001b[0m in \u001b[0;36mtelebeElaveEt\u001b[1;34m()\u001b[0m\n\u001b[0;32m     25\u001b[0m         \u001b[0memr\u001b[0m\u001b[1;33m=\u001b[0m\u001b[0minput\u001b[0m\u001b[1;33m(\u001b[0m\u001b[1;34m'Yeni telebe elave etmek isteyirsiniz mi (Y/N) :'\u001b[0m\u001b[1;33m)\u001b[0m\u001b[1;33m\u001b[0m\u001b[1;33m\u001b[0m\u001b[0m\n\u001b[0;32m     26\u001b[0m         \u001b[1;32mif\u001b[0m\u001b[1;33m(\u001b[0m\u001b[0memr\u001b[0m\u001b[1;33m==\u001b[0m\u001b[1;34m'Y'\u001b[0m\u001b[1;33m,\u001b[0m\u001b[1;34m'y'\u001b[0m\u001b[1;33m,\u001b[0m\u001b[1;34m'f'\u001b[0m\u001b[1;33m)\u001b[0m\u001b[1;33m:\u001b[0m\u001b[1;33m\u001b[0m\u001b[1;33m\u001b[0m\u001b[0m\n\u001b[1;32m---> 27\u001b[1;33m             \u001b[0myeniTelebe\u001b[0m\u001b[1;33m(\u001b[0m\u001b[1;33m)\u001b[0m\u001b[1;33m\u001b[0m\u001b[1;33m\u001b[0m\u001b[0m\n\u001b[0m\u001b[0;32m     28\u001b[0m         \u001b[1;32melse\u001b[0m\u001b[1;33m:\u001b[0m\u001b[1;33m\u001b[0m\u001b[1;33m\u001b[0m\u001b[0m\n\u001b[0;32m     29\u001b[0m             \u001b[1;32mbreak\u001b[0m\u001b[1;33m\u001b[0m\u001b[1;33m\u001b[0m\u001b[0m\n",
      "\u001b[1;32m<ipython-input-12-e3c1a705009e>\u001b[0m in \u001b[0;36myeniTelebe\u001b[1;34m()\u001b[0m\n\u001b[0;32m     12\u001b[0m \u001b[1;32mdef\u001b[0m \u001b[0mtelebeElaveEt\u001b[0m\u001b[1;33m(\u001b[0m\u001b[1;33m)\u001b[0m\u001b[1;33m:\u001b[0m\u001b[1;33m\u001b[0m\u001b[1;33m\u001b[0m\u001b[0m\n\u001b[0;32m     13\u001b[0m     \u001b[1;32mdef\u001b[0m \u001b[0myeniTelebe\u001b[0m\u001b[1;33m(\u001b[0m\u001b[1;33m)\u001b[0m\u001b[1;33m:\u001b[0m\u001b[1;33m\u001b[0m\u001b[1;33m\u001b[0m\u001b[0m\n\u001b[1;32m---> 14\u001b[1;33m         \u001b[0mad\u001b[0m\u001b[1;33m=\u001b[0m\u001b[0minput\u001b[0m\u001b[1;33m(\u001b[0m\u001b[1;34m'Ad : '\u001b[0m\u001b[1;33m)\u001b[0m\u001b[1;33m\u001b[0m\u001b[1;33m\u001b[0m\u001b[0m\n\u001b[0m\u001b[0;32m     15\u001b[0m         \u001b[0msoyad\u001b[0m\u001b[1;33m=\u001b[0m\u001b[0minput\u001b[0m\u001b[1;33m(\u001b[0m\u001b[1;34m'Soyad : '\u001b[0m\u001b[1;33m)\u001b[0m\u001b[1;33m\u001b[0m\u001b[1;33m\u001b[0m\u001b[0m\n\u001b[0;32m     16\u001b[0m         \u001b[0myas\u001b[0m\u001b[1;33m=\u001b[0m\u001b[0minput\u001b[0m\u001b[1;33m(\u001b[0m\u001b[1;34m'Yas :'\u001b[0m\u001b[1;33m)\u001b[0m\u001b[1;33m\u001b[0m\u001b[1;33m\u001b[0m\u001b[0m\n",
      "\u001b[1;32m~\\anaconda\\lib\\site-packages\\ipykernel\\kernelbase.py\u001b[0m in \u001b[0;36mraw_input\u001b[1;34m(self, prompt)\u001b[0m\n\u001b[0;32m    858\u001b[0m                 \u001b[1;34m\"raw_input was called, but this frontend does not support input requests.\"\u001b[0m\u001b[1;33m\u001b[0m\u001b[1;33m\u001b[0m\u001b[0m\n\u001b[0;32m    859\u001b[0m             )\n\u001b[1;32m--> 860\u001b[1;33m         return self._input_request(str(prompt),\n\u001b[0m\u001b[0;32m    861\u001b[0m             \u001b[0mself\u001b[0m\u001b[1;33m.\u001b[0m\u001b[0m_parent_ident\u001b[0m\u001b[1;33m,\u001b[0m\u001b[1;33m\u001b[0m\u001b[1;33m\u001b[0m\u001b[0m\n\u001b[0;32m    862\u001b[0m             \u001b[0mself\u001b[0m\u001b[1;33m.\u001b[0m\u001b[0m_parent_header\u001b[0m\u001b[1;33m,\u001b[0m\u001b[1;33m\u001b[0m\u001b[1;33m\u001b[0m\u001b[0m\n",
      "\u001b[1;32m~\\anaconda\\lib\\site-packages\\ipykernel\\kernelbase.py\u001b[0m in \u001b[0;36m_input_request\u001b[1;34m(self, prompt, ident, parent, password)\u001b[0m\n\u001b[0;32m    902\u001b[0m             \u001b[1;32mexcept\u001b[0m \u001b[0mKeyboardInterrupt\u001b[0m\u001b[1;33m:\u001b[0m\u001b[1;33m\u001b[0m\u001b[1;33m\u001b[0m\u001b[0m\n\u001b[0;32m    903\u001b[0m                 \u001b[1;31m# re-raise KeyboardInterrupt, to truncate traceback\u001b[0m\u001b[1;33m\u001b[0m\u001b[1;33m\u001b[0m\u001b[1;33m\u001b[0m\u001b[0m\n\u001b[1;32m--> 904\u001b[1;33m                 \u001b[1;32mraise\u001b[0m \u001b[0mKeyboardInterrupt\u001b[0m\u001b[1;33m(\u001b[0m\u001b[1;34m\"Interrupted by user\"\u001b[0m\u001b[1;33m)\u001b[0m \u001b[1;32mfrom\u001b[0m \u001b[1;32mNone\u001b[0m\u001b[1;33m\u001b[0m\u001b[1;33m\u001b[0m\u001b[0m\n\u001b[0m\u001b[0;32m    905\u001b[0m             \u001b[1;32mexcept\u001b[0m \u001b[0mException\u001b[0m \u001b[1;32mas\u001b[0m \u001b[0me\u001b[0m\u001b[1;33m:\u001b[0m\u001b[1;33m\u001b[0m\u001b[1;33m\u001b[0m\u001b[0m\n\u001b[0;32m    906\u001b[0m                 \u001b[0mself\u001b[0m\u001b[1;33m.\u001b[0m\u001b[0mlog\u001b[0m\u001b[1;33m.\u001b[0m\u001b[0mwarning\u001b[0m\u001b[1;33m(\u001b[0m\u001b[1;34m\"Invalid Message:\"\u001b[0m\u001b[1;33m,\u001b[0m \u001b[0mexc_info\u001b[0m\u001b[1;33m=\u001b[0m\u001b[1;32mTrue\u001b[0m\u001b[1;33m)\u001b[0m\u001b[1;33m\u001b[0m\u001b[1;33m\u001b[0m\u001b[0m\n",
      "\u001b[1;31mKeyboardInterrupt\u001b[0m: Interrupted by user"
     ]
    }
   ],
   "source": [
    "programMenusu=\"\"\"\n",
    "    ----Proqram Menusu----\n",
    "    1-Yeni Tələbə Əlavə Et\n",
    "    2-Tələbələrin siyahısı gör\n",
    "    3-Proqramdan cıx\n",
    "    4-Əsas menuye qayit\n",
    "    ----------------------\n",
    "    \"\"\"  \n",
    "# telebeAd,telebeSoyad,telebeYas\n",
    "# telebeler=[]\n",
    "telebeler=[]\n",
    "def telebeElaveEt():\n",
    "    def yeniTelebe():\n",
    "        ad=input('Ad : ')\n",
    "        soyad=input('Soyad : ')\n",
    "        yas=input('Yas :')\n",
    "\n",
    "        telebe={\n",
    "            'Ad':ad,\n",
    "            'Soyad':soyad,\n",
    "            'Yas':yas\n",
    "        }\n",
    "        telebeler.append(telebe)\n",
    "    while True:\n",
    "        emr=input('Yeni telebe elave etmek isteyirsiniz mi (Y/N) :')\n",
    "        if(emr=='Y','y','f'):\n",
    "            yeniTelebe()\n",
    "        else:\n",
    "            break\n",
    "def telebeSiyahisiGor():\n",
    "    for telebe in telebeler:\n",
    "        print(f'{telebe[\"Ad\"]} | {telebe[\"Soyad\"]} | {telebe[\"Yas\"]}')\n",
    "\n",
    "def menuGoster():\n",
    "    print(programMenusu)\n",
    "\n",
    "\n",
    "menuGoster()\n",
    "\n",
    "while True:\n",
    "\n",
    "    emr=input('Istədiyiniz əməlyatın nömrəsini daxil edin :')\n",
    "    if int(emr)==3:\n",
    "        break\n",
    "    elif int(emr)==1:\n",
    "        telebeElaveEt()\n",
    "    elif int(emr)==2:\n",
    "        telebeSiyahisiGor()\n",
    "    elif int(emr)==4:\n",
    "        menuGoster()\n",
    "    else:\n",
    "        print('Sehv emelyat nomresini daxil edildiyi ucun proqram dayandirilir')\n",
    "        break\n",
    "\n",
    "\n",
    "\n"
   ]
  },
  {
   "cell_type": "code",
   "execution_count": null,
   "id": "b4f04d53",
   "metadata": {},
   "outputs": [],
   "source": []
  },
  {
   "cell_type": "code",
   "execution_count": null,
   "id": "132f6286",
   "metadata": {},
   "outputs": [],
   "source": []
  }
 ],
 "metadata": {
  "kernelspec": {
   "display_name": "Python 3",
   "language": "python",
   "name": "python3"
  },
  "language_info": {
   "codemirror_mode": {
    "name": "ipython",
    "version": 3
   },
   "file_extension": ".py",
   "mimetype": "text/x-python",
   "name": "python",
   "nbconvert_exporter": "python",
   "pygments_lexer": "ipython3",
   "version": "3.8.8"
  }
 },
 "nbformat": 4,
 "nbformat_minor": 5
}
